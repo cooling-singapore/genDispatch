{
 "cells": [
  {
   "cell_type": "code",
   "execution_count": null,
   "metadata": {},
   "outputs": [],
   "source": [
    "import sys\n",
    "\n",
    "# Set the project path here\n",
    "PathProj = \n",
    "sys.path.append(PathProj)\n",
    "\n",
    "from ToWRF import *"
   ]
  },
  {
   "cell_type": "markdown",
   "metadata": {},
   "source": [
    "<h3><i><font color=#117A65>1) Initialize the fleet and inputs</font></i></h3>"
   ]
  },
  {
   "cell_type": "code",
   "execution_count": null,
   "metadata": {},
   "outputs": [],
   "source": [
    "GenFleet, PPdb, dParameters = init_genDispatch()"
   ]
  },
  {
   "cell_type": "markdown",
   "metadata": {},
   "source": [
    "<h3><i><font color=#117A65>2) Read the saved results</font></i></h3>"
   ]
  },
  {
   "cell_type": "code",
   "execution_count": null,
   "metadata": {},
   "outputs": [],
   "source": [
    "Results, GenFleet = read_results(GenFleet)"
   ]
  },
  {
   "cell_type": "markdown",
   "metadata": {},
   "source": [
    "<h3><i><font color=#117A65>4) Calculate heat streams for WRF</font></i></h3>"
   ]
  },
  {
   "cell_type": "code",
   "execution_count": null,
   "metadata": {},
   "outputs": [],
   "source": [
    "# Thermal analysis is done to calculate the how the fuel HHV is allocated into the electricity, cogen heat, and waste heat streams.\n",
    "# Tolerate CCGT warnings (will adj Rankine eff)\n",
    "compiled_prms = thermal_analysis(GenFleet, dParameters)"
   ]
  },
  {
   "cell_type": "code",
   "execution_count": null,
   "metadata": {},
   "outputs": [],
   "source": [
    "# Calculate the waste heat streams. First by outlet, then by kind.\n",
    "calc_heatstreams(GenFleet, Results, by='outlet',)\n",
    "calc_heatstreams(GenFleet, Results, by='kind', latentheatfactors=dParameters['latent heat factors'])"
   ]
  },
  {
   "cell_type": "code",
   "execution_count": null,
   "metadata": {},
   "outputs": [],
   "source": [
    "# Prepare the WRF input files\n",
    "WRF_SH, WRF_LH, WRF_Sea, total_MWh = prep_WRF_inputs(\n",
    "    scenario='Test WRF', \n",
    "    GenFleet=GenFleet, \n",
    "    PPcells_only=True,   # Set to False if you want the full grid (sparse)\n",
    "    unit='MW',\n",
    "    day='2016 Apr 01', \n",
    "    write_to_disk=True\n",
    ")"
   ]
  },
  {
   "cell_type": "code",
   "execution_count": null,
   "metadata": {},
   "outputs": [],
   "source": []
  }
 ],
 "metadata": {
  "kernelspec": {
   "display_name": "Python 3",
   "language": "python",
   "name": "python3"
  },
  "language_info": {
   "codemirror_mode": {
    "name": "ipython",
    "version": 3
   },
   "file_extension": ".py",
   "mimetype": "text/x-python",
   "name": "python",
   "nbconvert_exporter": "python",
   "pygments_lexer": "ipython3",
   "version": "3.7.4"
  }
 },
 "nbformat": 4,
 "nbformat_minor": 2
}
