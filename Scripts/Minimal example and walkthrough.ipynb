{
 "cells": [
  {
   "cell_type": "code",
   "execution_count": null,
   "metadata": {},
   "outputs": [],
   "source": [
    "import sys\n",
    "\n",
    "# Set the project path here\n",
    "PathProj = \n",
    "sys.path.append(PathProj)\n",
    "\n",
    "from genDispatch import *\n",
    "from ToWRF import *"
   ]
  },
  {
   "cell_type": "markdown",
   "metadata": {},
   "source": [
    "<h3><i><font color=#2471A3>Module-level names</font></i></h3>"
   ]
  },
  {
   "cell_type": "code",
   "execution_count": null,
   "metadata": {},
   "outputs": [],
   "source": [
    "# Dictionary of the input fundamentals. Objects bound are datahandler.Metadata instances\n",
    "dFundamentals['sys demand']"
   ]
  },
  {
   "cell_type": "code",
   "execution_count": null,
   "metadata": {},
   "outputs": [],
   "source": [
    "# Inspect the underlying data via the .val attr\n",
    "dFundamentals['sys demand'].val"
   ]
  },
  {
   "cell_type": "code",
   "execution_count": null,
   "metadata": {},
   "outputs": [],
   "source": [
    "# This contains the read parameters. This particular parameter is the MWh HHV per market unit of the fuels\n",
    "dParameters['fuel qty to MWh']"
   ]
  },
  {
   "cell_type": "code",
   "execution_count": null,
   "metadata": {},
   "outputs": [],
   "source": [
    "# Inspect the scenarios set with this. This dictionary is read-only\n",
    "Scenarios"
   ]
  },
  {
   "cell_type": "code",
   "execution_count": null,
   "metadata": {},
   "outputs": [],
   "source": [
    "# The initialized GenUnit fleet from PowerPlants.py, as read from the power plant database\n",
    "GenFleet"
   ]
  },
  {
   "cell_type": "code",
   "execution_count": null,
   "metadata": {},
   "outputs": [],
   "source": [
    "# Following OOP, all the info about each unit is contained the object\n",
    "GenFleet[0].gentech"
   ]
  },
  {
   "cell_type": "code",
   "execution_count": null,
   "metadata": {},
   "outputs": [],
   "source": [
    "# Read power plant database. Each sheet is contained here.\n",
    "PPdb['master']"
   ]
  },
  {
   "cell_type": "code",
   "execution_count": null,
   "metadata": {},
   "outputs": [],
   "source": []
  },
  {
   "cell_type": "markdown",
   "metadata": {},
   "source": [
    "<h3><i><font color=#117A65>1) Set the simulation period and the scenarios</font></i></h3>"
   ]
  },
  {
   "cell_type": "code",
   "execution_count": null,
   "metadata": {},
   "outputs": [],
   "source": [
    "# if no arguments are passed, then the full common period is set\n",
    "set_period()\n",
    "#set_period(t_from='2016 Apr 01', t_to='2016 Apr 01')\n",
    "\n",
    "# Set the system demand to the baseline\n",
    "set_scenario({'sys demand': 'Baseline'})"
   ]
  },
  {
   "cell_type": "markdown",
   "metadata": {},
   "source": [
    "<h3><i><font color=#117A65>2) Simulate dispatch</font></i></h3>"
   ]
  },
  {
   "cell_type": "code",
   "execution_count": null,
   "metadata": {},
   "outputs": [],
   "source": [
    "# simulate()'s docstring in NEMS.py documents the data objects initially written to the results (contains the dispatch).\n",
    "# After a run, it's recommended to save the results by pickling them.\n",
    "Results = solve(simulation_name='Baseline', runchecks=False, daily_progress=True)\n",
    "\n",
    "\n",
    "# calc_allheat() calculates statistics related to waste and cogeneration heat, some of which is needed by \n",
    "# plot_ElecAndHeatByPlant() and in parts of Step 4\n",
    "calc_allheat(Results)"
   ]
  },
  {
   "cell_type": "markdown",
   "metadata": {},
   "source": [
    "<h3><i><font color=#117A65>3) Analyze dispatch results</font></i></h3>"
   ]
  },
  {
   "cell_type": "code",
   "execution_count": null,
   "metadata": {},
   "outputs": [],
   "source": [
    "# gd_analysis.py contains a number of analysis and plotting functions, such as the fuel mix plotter:\n",
    "# The generated plot data is written in Results as well\n",
    "plot_fuelmix(Results)"
   ]
  },
  {
   "cell_type": "code",
   "execution_count": null,
   "metadata": {},
   "outputs": [],
   "source": [
    "plot_ElecAndHeatByPlant(Results)"
   ]
  },
  {
   "cell_type": "code",
   "execution_count": null,
   "metadata": {},
   "outputs": [],
   "source": []
  },
  {
   "cell_type": "markdown",
   "metadata": {},
   "source": [
    "<h3><i><font color=#117A65>4) Calculate heat streams for WRF</font></i></h3>\n",
    "genDispatch does not automatically calculate the heat stream components of the waste heat. These functions are provided in ToWRF.py"
   ]
  },
  {
   "cell_type": "code",
   "execution_count": null,
   "metadata": {},
   "outputs": [],
   "source": [
    "# Thermal analysis is done to calculate the how the fuel HHV is allocated into the electricity, cogen heat, and waste heat streams.\n",
    "# Tolerate CCGT warnings (will adj Rankine eff)\n",
    "compiled_prms = thermal_analysis(GenFleet, dParameters)"
   ]
  },
  {
   "cell_type": "code",
   "execution_count": null,
   "metadata": {},
   "outputs": [],
   "source": [
    "# Calculate the waste heat streams. First by outlet, then by kind.\n",
    "calc_heatstreams(GenFleet, Results, by='outlet',)\n",
    "calc_heatstreams(GenFleet, Results, by='kind', latentheatfactors=dParameters['latent heat factors'])"
   ]
  },
  {
   "cell_type": "code",
   "execution_count": null,
   "metadata": {},
   "outputs": [],
   "source": [
    "# Prepare the WRF input files\n",
    "WRF_SH, WRF_LH, WRF_Sea, total_MWh = prep_WRF_inputs(\n",
    "    scenario='Test WRF', \n",
    "    GenFleet=GenFleet, \n",
    "    PPcells_only=False,   # Set to False if you want the full grid (sparse)\n",
    "    unit='MW',\n",
    "    day='2016 Apr 01', \n",
    "    write_to_disk=False,\n",
    ")"
   ]
  },
  {
   "cell_type": "code",
   "execution_count": null,
   "metadata": {},
   "outputs": [],
   "source": [
    "total_MWh * c_['MWh to ktoe']"
   ]
  },
  {
   "cell_type": "code",
   "execution_count": null,
   "metadata": {},
   "outputs": [],
   "source": [
    "WRF_SH"
   ]
  },
  {
   "cell_type": "code",
   "execution_count": null,
   "metadata": {},
   "outputs": [],
   "source": []
  },
  {
   "cell_type": "code",
   "execution_count": null,
   "metadata": {},
   "outputs": [],
   "source": []
  },
  {
   "cell_type": "code",
   "execution_count": null,
   "metadata": {},
   "outputs": [],
   "source": []
  },
  {
   "cell_type": "code",
   "execution_count": null,
   "metadata": {},
   "outputs": [],
   "source": []
  },
  {
   "cell_type": "markdown",
   "metadata": {},
   "source": [
    "SCRATCH"
   ]
  },
  {
   "cell_type": "code",
   "execution_count": null,
   "metadata": {},
   "outputs": [],
   "source": []
  },
  {
   "cell_type": "code",
   "execution_count": null,
   "metadata": {},
   "outputs": [],
   "source": []
  }
 ],
 "metadata": {
  "kernelspec": {
   "display_name": "Python 3",
   "language": "python",
   "name": "python3"
  },
  "language_info": {
   "codemirror_mode": {
    "name": "ipython",
    "version": 3
   },
   "file_extension": ".py",
   "mimetype": "text/x-python",
   "name": "python",
   "nbconvert_exporter": "python",
   "pygments_lexer": "ipython3",
   "version": "3.7.4"
  }
 },
 "nbformat": 4,
 "nbformat_minor": 2
}
